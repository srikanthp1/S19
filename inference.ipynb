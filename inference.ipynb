{
 "cells": [
  {
   "cell_type": "code",
   "execution_count": null,
   "metadata": {},
   "outputs": [],
   "source": [
    "from fastsam import FastSAM, FastSAMPrompt\n",
    "\n",
    "model = FastSAM('./weights/FastSAM.pt')\n",
    "IMAGE_PATH = './images/dogs.jpg'\n",
    "DEVICE = 'cpu'\n",
    "everything_results = model(IMAGE_PATH, device=DEVICE, retina_masks=True, imgsz=1024, conf=0.4, iou=0.9,)\n",
    "prompt_process = FastSAMPrompt(IMAGE_PATH, everything_results, device=DEVICE)\n",
    "\n",
    "# everything prompt\n",
    "# ann = prompt_process.everything_prompt()\n",
    "\n",
    "# bbox default shape [0,0,0,0] -> [x1,y1,x2,y2]\n",
    "# ann = prompt_process.box_prompt(bbox=[[200, 200, 300, 300]])\n",
    "\n",
    "# text prompt\n",
    "ann = prompt_process.text_prompt(text='a photo of a dog')\n",
    "\n",
    "# point prompt\n",
    "# points default [[0,0]] [[x1,y1],[x2,y2]]\n",
    "# point_label default [0] [1,0] 0:background, 1:foreground\n",
    "# ann = prompt_process.point_prompt(points=[[620, 360]], pointlabel=[1])\n",
    "\n",
    "prompt_process.plot(annotations=ann,output_path='./output/dog.jpg',)"
   ]
  }
 ],
 "metadata": {
  "language_info": {
   "name": "python"
  },
  "orig_nbformat": 4
 },
 "nbformat": 4,
 "nbformat_minor": 2
}
